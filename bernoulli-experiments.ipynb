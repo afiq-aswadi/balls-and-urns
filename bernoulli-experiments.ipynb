{
 "cells": [
  {
   "cell_type": "markdown",
   "id": "47b5feb7",
   "metadata": {},
   "source": [
    "# Setup"
   ]
  },
  {
   "cell_type": "code",
   "execution_count": 16,
   "id": "877e1c3f",
   "metadata": {},
   "outputs": [],
   "source": [
    "import transformer_lens\n",
    "from samplers import generate_data, generate_data_with_p\n",
    "import torch\n",
    "from torch import optim\n",
    "from tqdm import tqdm\n",
    "import torch.nn as nn\n",
    "from model import deactivate_position\n",
    "from scipy.stats import beta\n",
    "import matplotlib.pyplot as plt\n",
    "import numpy as np\n",
    "import plotly.graph_objects as go\n",
    "import time\n",
    "from utils import get_log_resids_from_sequential_ones, get_theoretical_log, calculate_optimal_loss\n",
    "import itertools\n",
    "from sklearn.metrics.pairwise import cosine_similarity as sklearn_cosine_similarity\n",
    "\n",
    "DEVICE = \"cuda\" if torch.cuda.is_available() else \"mps\" if torch.backends.mps.is_available() else \"cpu\""
   ]
  },
  {
   "cell_type": "code",
   "execution_count": 17,
   "id": "de379377",
   "metadata": {},
   "outputs": [],
   "source": [
    "def prepend_bos(datasets, bos_token_value=2):\n",
    "    \"\"\"\n",
    "    Prepend BOS token to each batch in the datasets.\n",
    "    \n",
    "    Args:\n",
    "        datasets: List of torch tensors representing batches\n",
    "        bos_token_value: Value of the BOS token (default: 2)\n",
    "    \n",
    "    Returns:\n",
    "        List of modified tensors with BOS tokens prepended\n",
    "    \"\"\"\n",
    "    modified_datasets = []\n",
    "    for dataset in datasets:\n",
    "        batch_size = dataset.shape[0]\n",
    "        bos_tokens = torch.full((batch_size, 1), bos_token_value, dtype=torch.long)\n",
    "        modified_dataset = torch.cat([bos_tokens, dataset], dim=1)\n",
    "        modified_datasets.append(modified_dataset)\n",
    "    return modified_datasets"
   ]
  },
  {
   "cell_type": "code",
   "execution_count": 18,
   "id": "cf23ddb7",
   "metadata": {},
   "outputs": [],
   "source": [
    "\n",
    "def generate_all_binary_sequences_with_fixed_num_ones(n: int, num_ones: int, max_n_sequences: int = None, prepend_bos: bool = False, last_obs: int = None) -> torch.Tensor:\n",
    "    \"\"\"\n",
    "    Generate all possible binary sequences of length n with exactly num_ones ones.\n",
    "    If max_n_sequences is specified, only generate up to that many sequences.\n",
    "    \n",
    "    Args:\n",
    "        n: Length of the sequence\n",
    "        num_ones: Number of ones in each sequence\n",
    "        max_n_sequences: Maximum number of sequences to generate (optional)\n",
    "        prepend_bos: Whether to prepend BOS token (default: False)\n",
    "        last_obs: If 0 or 1, fix the last token to this value (optional)\n",
    "        \n",
    "    Returns:\n",
    "        torch.Tensor: Tensor of shape (num_permutations, n) or (num_permutations, n+1) if prepend_bos=True\n",
    "    \"\"\"\n",
    "    if last_obs is not None and last_obs in [0, 1]:\n",
    "        # If last token is fixed, we need to place ones in the first n-1 positions\n",
    "        if last_obs == 1:\n",
    "            # Last position is 1, so we need (num_ones - 1) ones in first (n-1) positions\n",
    "            remaining_ones = num_ones - 1\n",
    "        else:\n",
    "            # Last position is 0, so we need num_ones ones in first (n-1) positions\n",
    "            remaining_ones = num_ones\n",
    "        \n",
    "        # Check if it's possible to satisfy the constraint\n",
    "        if remaining_ones < 0 or remaining_ones > (n - 1):\n",
    "            return torch.empty((0, n), dtype=torch.long)\n",
    "        \n",
    "        # Generate combinations for the first n-1 positions\n",
    "        positions_iter = itertools.combinations(range(n - 1), remaining_ones)\n",
    "        if max_n_sequences is not None:\n",
    "            positions_iter = itertools.islice(positions_iter, max_n_sequences)\n",
    "        positions_list = list(positions_iter)\n",
    "        num_permutations = len(positions_list)\n",
    "        \n",
    "        # Initialize the output tensor\n",
    "        sequences = torch.zeros((num_permutations, n), dtype=torch.long)\n",
    "        \n",
    "        # Set the last position to the fixed value\n",
    "        sequences[:, -1] = last_obs\n",
    "        \n",
    "        # Fill in the tensor with 1s at the appropriate positions in first n-1 positions\n",
    "        for i, positions in enumerate(positions_list):\n",
    "            for pos in positions:\n",
    "                sequences[i, pos] = 1\n",
    "    else:\n",
    "        # Original behavior when last_obs is not specified or not 0/1\n",
    "        positions_iter = itertools.combinations(range(n), num_ones)\n",
    "        if max_n_sequences is not None:\n",
    "            positions_iter = itertools.islice(positions_iter, max_n_sequences)\n",
    "        positions_list = list(positions_iter)\n",
    "        num_permutations = len(positions_list)\n",
    "        \n",
    "        # Initialize the output tensor\n",
    "        sequences = torch.zeros((num_permutations, n), dtype=torch.long)\n",
    "        \n",
    "        # Fill in the tensor with 1s at the appropriate positions\n",
    "        for i, positions in enumerate(positions_list):\n",
    "            for pos in positions:\n",
    "                sequences[i, pos] = 1\n",
    "    \n",
    "    # Prepend BOS token if requested\n",
    "    if prepend_bos:\n",
    "        bos_tokens = torch.full((num_permutations, 1), 2, dtype=torch.long)\n",
    "        sequences = torch.cat([bos_tokens, sequences], dim=1)\n",
    "    \n",
    "    return sequences"
   ]
  },
  {
   "cell_type": "code",
   "execution_count": 19,
   "id": "e5e61516",
   "metadata": {},
   "outputs": [],
   "source": [
    "def train_coinformer_model(model, \n",
    "                           num_epochs: int = 3,\n",
    "                           learning_rate: float = 0.001,\n",
    "                           batch_size: int = 64,\n",
    "                           seq_length: int = 20,\n",
    "                           num_batches: int = 100,\n",
    "                           alpha_param: float = 1.0,\n",
    "                           beta_param: float = 1.0,\n",
    "                           bernoulli: bool = False,\n",
    "                           bernoulli_p: float = 0.5,\n",
    "                           flip_batch: bool = False,\n",
    "                           pos_embed: bool = True,\n",
    "                           add_zeros_and_ones: int = 0,\n",
    "                           scale: float = 1.0,\n",
    "                           bias: float = 0.0,\n",
    "                           importance_sampling: bool = False,\n",
    "                           importance_sampling_alpha: float = 1.0,\n",
    "                           importance_sampling_beta: float = 1.0):\n",
    "    \"\"\"Train the Coinformer model.\"\"\"\n",
    "    \n",
    "    optimizer = optim.Adam(model.parameters(), lr=learning_rate)\n",
    "    criterion = nn.CrossEntropyLoss()\n",
    "    losses = []\n",
    "\n",
    "    # Deactivate positional embedding if specified\n",
    "    if not pos_embed:\n",
    "        model = deactivate_position(model)\n",
    "    else:\n",
    "        # Ensure positional embedding gradients are enabled when pos_embed=True\n",
    "        for name, param in model.named_parameters():\n",
    "            if \"pos_embed\" in name or \"W_pos\" in name:\n",
    "                param.requires_grad = True\n",
    "    \n",
    "\n",
    "    for epoch in range(num_epochs):\n",
    "        # Generate new data for each epoch\n",
    "        datasets, priors = generate_data(batch_size=batch_size, seq_length=seq_length, \n",
    "                                   num_batches=num_batches, alpha=alpha_param, beta=beta_param, bernoulli=bernoulli, bernoulli_p=bernoulli_p, flip_batch=flip_batch\n",
    "                                   , scale=scale, bias=bias)\n",
    "\n",
    "        # Prepend BOS token to each batch\n",
    "        datasets = prepend_bos(datasets)\n",
    "\n",
    "        # Add the specified number of batches of all 0s and all 1s\n",
    "        if add_zeros_and_ones > 0:\n",
    "            zeros_ones_batches = []\n",
    "            for _ in range(add_zeros_and_ones):\n",
    "                zeros = torch.zeros((batch_size, seq_length), dtype=torch.long)\n",
    "                ones = torch.ones((batch_size, seq_length), dtype=torch.long)\n",
    "                zeros_ones_batches.extend([zeros, ones])\n",
    "                priors.extend([0.0, 1.0])\n",
    "            \n",
    "            # Prepend BOS tokens to the newly added batches and extend datasets\n",
    "            zeros_ones_with_bos = prepend_bos(zeros_ones_batches)\n",
    "            datasets.extend(zeros_ones_with_bos)\n",
    "\n",
    "        epoch_loss = 0\n",
    "        \n",
    "        # Plot histogram of priors for this epoch\n",
    "        # plt.figure(figsize=(8, 4))\n",
    "        # plt.hist(priors, bins=10, alpha=0.7, color='blue', edgecolor='black')\n",
    "        # plt.title(f'Distribution of Prior Probabilities (Epoch {epoch+1})')\n",
    "        # plt.xlabel('Probability Value')\n",
    "        # plt.ylabel('Frequency')\n",
    "        # plt.grid(True, alpha=0.3)\n",
    "        # plt.show()\n",
    "        if importance_sampling:\n",
    "            optimal_loss = calculate_optimal_loss(importance_sampling_alpha, importance_sampling_beta)\n",
    "        else:\n",
    "            optimal_loss = calculate_optimal_loss(alpha_param, beta_param)\n",
    "\n",
    "        for data_batch, prior in tqdm(zip(datasets, priors), desc=f\"Epoch {epoch+1}/{num_epochs}\"):\n",
    "            data_batch = data_batch.to(DEVICE)\n",
    "            # For each sequence, use all tokens except the last one as input\n",
    "            inputs = data_batch[:, :-1]\n",
    "            # Use all tokens except the first one as targets\n",
    "            targets = data_batch[:, 1:]\n",
    "            \n",
    "            # Forward pass\n",
    "            logits = model(inputs)\n",
    "            \n",
    "            # Reshape logits and targets for loss calculation\n",
    "            logits_view = logits.view(-1, model.cfg.d_vocab)\n",
    "            targets_view = targets.reshape(-1)\n",
    "            \n",
    "            # Calculate loss\n",
    "            loss = criterion(logits_view, targets_view)\n",
    "            if importance_sampling:\n",
    "                weights = beta(importance_sampling_alpha, importance_sampling_beta).pdf(prior)\n",
    "                loss = loss * weights\n",
    "\n",
    "            epoch_loss += loss.item()\n",
    "            \n",
    "            # Backward pass and optimize\n",
    "            optimizer.zero_grad()\n",
    "            loss.backward()\n",
    "            optimizer.step()\n",
    "        \n",
    "        avg_loss = epoch_loss / len(datasets)\n",
    "        losses.append(avg_loss)\n",
    "        print(f\"Epoch {epoch+1}, Loss: {avg_loss:.4f}, Theoretical Loss Lower Bound: {optimal_loss:.4f}\")\n",
    "\n",
    "        # # After each epoch, analyze model's behavior on sequences with a single 1\n",
    "        # model.eval()  # Set model to evaluation mode\n",
    "        # with torch.no_grad():  # Disable gradient computation\n",
    "        #     print(f\"\\\\nAnalyzing model behavior after epoch {epoch+1}:\")\n",
    "        #     analyze_single_one_sequences(model, seq_length=20)\n",
    "        # model.train()  # Set model back to training mode\n",
    "\n",
    "    return losses"
   ]
  },
  {
   "cell_type": "code",
   "execution_count": 20,
   "id": "15593c13",
   "metadata": {},
   "outputs": [],
   "source": [
    "\n",
    "def generate_tokens(model, input_tokens, max_new_tokens=10, do_sample=True, temperature=1.0, num_samples=1):\n",
    "    \"\"\"\n",
    "    Generate tokens from the model without requiring a tokenizer.\n",
    "    \n",
    "    Args:\n",
    "        model: The transformer model\n",
    "        input_tokens: Starting tokens as a tensor of shape [batch_size, seq_len]\n",
    "        max_new_tokens: Maximum number of new tokens to generate\n",
    "        do_sample: Whether to sample from the distribution (True) or use greedy decoding (False)\n",
    "        temperature: Temperature for sampling (higher = more random)\n",
    "        num_samples: Number of samples to generate for each input sequence\n",
    "    \n",
    "    Returns:\n",
    "        Generated sequence including the input tokens, shape [batch_size * num_samples, seq_len + max_new_tokens]\n",
    "    \"\"\"\n",
    "    model.eval()\n",
    "    \n",
    "    with torch.no_grad():\n",
    "        # Repeat input tokens for each sample\n",
    "        current_tokens = input_tokens.repeat_interleave(num_samples, dim=0)\n",
    "        \n",
    "        for _ in range(max_new_tokens):\n",
    "            # Get model predictions\n",
    "            logits = model(current_tokens)\n",
    "            \n",
    "            # Get the logits for the last position\n",
    "            next_token_logits = logits[:, -1, :] / temperature\n",
    "            \n",
    "            if do_sample:\n",
    "                # Sample from the probability distribution\n",
    "                probs = torch.softmax(next_token_logits, dim=-1)\n",
    "                next_token = torch.multinomial(probs, num_samples=1)\n",
    "            else:\n",
    "                # Greedy decoding - take the most likely token\n",
    "                next_token = torch.argmax(next_token_logits, dim=-1, keepdim=True)\n",
    "            \n",
    "            # Append the new token to the sequence\n",
    "            current_tokens = torch.cat([current_tokens, next_token], dim=1)\n",
    "            \n",
    "            # Stop if we hit the context limit\n",
    "            if current_tokens.shape[1] >= model.cfg.n_ctx:\n",
    "                break\n",
    "    \n",
    "    return current_tokens\n",
    "\n",
    "\n",
    "\n",
    "\n",
    "def predictive_resampling(model: transformer_lens.HookedTransformer,\n",
    "    prefix: torch.Tensor = None,\n",
    "    num_samples: int = 1000,\n",
    "    M: int = 50,\n",
    "    device: str = 'cpu',\n",
    "    max_seq_length: int = 50\n",
    "):\n",
    "    \"\"\"\n",
    "    Perform predictive resampling using the Transformer model.\n",
    "    \n",
    "    Args:\n",
    "        model: The Transformer model to use for resampling.\n",
    "        prefix: Optional prefix tensor to condition the model on. If None, starts with BOS token (2).\n",
    "        num_samples: Number of samples to generate.\n",
    "        M: Number of samples per batch.\n",
    "        device: Device to run the model on ('cpu' or 'cuda').\n",
    "        max_seq_length: Maximum length of generated sequences.\n",
    "    \n",
    "    Returns:\n",
    "        A tensor of probabilities for token 1, shape (num_samples,).\n",
    "    \"\"\"\n",
    "    model.to(device).eval()\n",
    "    \n",
    "    # Set default prefix to BOS token if none provided\n",
    "    if prefix is None:\n",
    "        prefix = torch.tensor([[2]], device=device)\n",
    "    else:\n",
    "        prefix = prefix.to(device)\n",
    "    \n",
    "    # Generate samples\n",
    "    all_probs = []\n",
    "    num_batches = (num_samples + M - 1) // M  # Ceiling division\n",
    "    \n",
    "    for i in range(num_batches):\n",
    "        current_batch_size = min(M, num_samples - i * M)\n",
    "        \n",
    "        # Create batch by repeating the prefix\n",
    "        batch_prefix = prefix.repeat(current_batch_size, 1)\n",
    "        \n",
    "        # Generate sequences for this batch\n",
    "        batch_sequences = generate_tokens(\n",
    "            model, \n",
    "            batch_prefix, \n",
    "            max_new_tokens=max_seq_length - prefix.shape[1], \n",
    "            do_sample=True\n",
    "        )\n",
    "        \n",
    "        # Compute logits and extract probability of token 1\n",
    "        with torch.no_grad():\n",
    "            logits = model(batch_sequences)\n",
    "            probs = torch.softmax(logits, dim=-1)\n",
    "            # Extract probability of token 1 from the last position\n",
    "            prob_token_1 = probs[:, -1, 1]  # Shape: (batch_size,)\n",
    "            all_probs.append(prob_token_1.cpu())\n",
    "    \n",
    "    return torch.cat(all_probs, dim=0)[:num_samples]\n",
    "\n",
    "\n",
    "def compare_priors(\n",
    "    A,\n",
    "    B,\n",
    "    model: transformer_lens.HookedTransformer,\n",
    "    device: str = 'cpu',\n",
    "    n_samples: int = 1000,\n",
    "):\n",
    "    \n",
    "    \"\"\"\n",
    "    Based on the PUQ framework by Fortini and Petrone et al.\n",
    "    \"\"\"\n",
    "\n",
    "    print(f\"→ Starting compare_priors on device='{device}'.\")\n",
    "\n",
    "    model.to(device).eval()\n",
    "\n",
    "    # Build a uniform grid on [0,1] and compute true prior density of P(A)\n",
    "    grid = np.linspace(0, 1, 300)\n",
    "    true_prior = beta(A, B).pdf(grid)\n",
    "\n",
    "    plt.figure(figsize=(8, 5))\n",
    "\n",
    "    # Plot true prior\n",
    "    plt.plot(\n",
    "        grid,\n",
    "        true_prior,\n",
    "        label='True Prior',\n",
    "        lw=2\n",
    "    )\n",
    "\n",
    "    # Generate prior samples via Transformer predictive resampling (prefix=None)\n",
    "    t1 = time.time()\n",
    "    prior_samples = predictive_resampling(\n",
    "        model,\n",
    "        prefix=None,\n",
    "        num_samples=n_samples,\n",
    "        M=50,\n",
    "        device=device\n",
    "    ).cpu().numpy()\n",
    "    print(f\"  Transformer predictive resampling for prior in {time.time() - t1:.3f} sec.\")\n",
    "\n",
    "    # Overlay histogram of resampled prior P(A)\n",
    "    # Use fewer bins for better visual comparison with the PDF\n",
    "    n_bins = 50\n",
    "    plt.hist(\n",
    "        prior_samples,\n",
    "        bins=n_bins,\n",
    "        density=True,\n",
    "        alpha=0.6,\n",
    "        range=(0, 1),  # Ensure histogram covers the same range as the PDF\n",
    "        label='Transformer Predictive Resampling'\n",
    "    )\n",
    "\n",
    "    # Use simple title and xlabel\n",
    "    plt.title('Prior distribution comparison')\n",
    "    plt.xlabel('P(A)')\n",
    "    plt.ylabel('Density')\n",
    "    plt.legend()\n",
    "    plt.grid()\n",
    "    plt.tight_layout()\n",
    "    plt.show()\n"
   ]
  },
  {
   "cell_type": "markdown",
   "id": "f592564c",
   "metadata": {},
   "source": [
    "# Training"
   ]
  },
  {
   "cell_type": "code",
   "execution_count": 21,
   "id": "a32db12b",
   "metadata": {},
   "outputs": [
    {
     "name": "stdout",
     "output_type": "stream",
     "text": [
      "Moving model to device:  mps\n"
     ]
    }
   ],
   "source": [
    "coinformer_wit_bos_config = transformer_lens.HookedTransformerConfig(\n",
    "    d_model=64, #embedding dimension\n",
    "    d_head=64,\n",
    "    n_layers=1,\n",
    "    n_ctx=100,\n",
    "    d_vocab=3,\n",
    "    act_fn=\"relu\",\n",
    "    default_prepend_bos=False,  # Disable automatic BOS prepending since we do it manually\n",
    "    normalization_type=None,\n",
    ")\n",
    "\n",
    "model = transformer_lens.HookedTransformer(coinformer_wit_bos_config).to(DEVICE)"
   ]
  },
  {
   "cell_type": "code",
   "execution_count": 22,
   "id": "ccc565e7",
   "metadata": {},
   "outputs": [
    {
     "name": "stdout",
     "output_type": "stream",
     "text": [
      "Probability range: [0.002, 1.000]\n"
     ]
    },
    {
     "name": "stderr",
     "output_type": "stream",
     "text": [
      "Epoch 1/5: 1000it [00:11, 90.27it/s]\n"
     ]
    },
    {
     "name": "stdout",
     "output_type": "stream",
     "text": [
      "Epoch 1, Loss: 0.5405, Theoretical Loss Lower Bound: 0.5000\n",
      "Probability range: [0.000, 0.999]\n"
     ]
    },
    {
     "name": "stderr",
     "output_type": "stream",
     "text": [
      "Epoch 2/5: 1000it [00:10, 95.81it/s]\n"
     ]
    },
    {
     "name": "stdout",
     "output_type": "stream",
     "text": [
      "Epoch 2, Loss: 0.5114, Theoretical Loss Lower Bound: 0.5000\n",
      "Probability range: [0.000, 0.999]\n"
     ]
    },
    {
     "name": "stderr",
     "output_type": "stream",
     "text": [
      "Epoch 3/5: 1000it [00:10, 95.13it/s]\n"
     ]
    },
    {
     "name": "stdout",
     "output_type": "stream",
     "text": [
      "Epoch 3, Loss: 0.5172, Theoretical Loss Lower Bound: 0.5000\n",
      "Probability range: [0.001, 0.998]\n"
     ]
    },
    {
     "name": "stderr",
     "output_type": "stream",
     "text": [
      "Epoch 4/5: 1000it [00:10, 95.76it/s]\n"
     ]
    },
    {
     "name": "stdout",
     "output_type": "stream",
     "text": [
      "Epoch 4, Loss: 0.5290, Theoretical Loss Lower Bound: 0.5000\n",
      "Probability range: [0.000, 1.000]\n"
     ]
    },
    {
     "name": "stderr",
     "output_type": "stream",
     "text": [
      "Epoch 5/5: 1000it [00:10, 96.56it/s]\n"
     ]
    },
    {
     "name": "stdout",
     "output_type": "stream",
     "text": [
      "Epoch 5, Loss: 0.5136, Theoretical Loss Lower Bound: 0.5000\n"
     ]
    }
   ],
   "source": [
    "losses = train_coinformer_model(model,\n",
    "                                num_epochs=5,\n",
    "                                learning_rate=0.001,\n",
    "                                batch_size=64,\n",
    "                                seq_length=99,\n",
    "                                num_batches=1000,\n",
    "                                alpha_param=1.0,\n",
    "                                beta_param=1.0,\n",
    "                                pos_embed=True\n",
    "                                )"
   ]
  },
  {
   "cell_type": "markdown",
   "id": "6ecbfa87",
   "metadata": {},
   "source": [
    "# Diagnostics"
   ]
  },
  {
   "cell_type": "code",
   "execution_count": 23,
   "id": "1e328c78",
   "metadata": {},
   "outputs": [
    {
     "name": "stdout",
     "output_type": "stream",
     "text": [
      "Generated sequences shape: torch.Size([5, 11])\n",
      "Sample 1: [1, 0, 0, 0, 1, 1, 1, 1, 0, 1]\n",
      "Sample 2: [0, 1, 1, 1, 1, 1, 0, 0, 1, 0]\n",
      "Sample 3: [0, 1, 1, 1, 1, 1, 1, 0, 1, 1]\n",
      "Sample 4: [0, 0, 0, 0, 0, 0, 0, 0, 1, 0]\n",
      "Sample 5: [0, 0, 0, 0, 1, 0, 0, 0, 0, 0]\n"
     ]
    }
   ],
   "source": [
    "# Test the generation function with multiple samples\n",
    "generated_sequences = generate_tokens(model, torch.tensor([[2]]).to(DEVICE), max_new_tokens=10, do_sample=True, num_samples=5)\n",
    "print(f\"Generated sequences shape: {generated_sequences.shape}\")\n",
    "for i, seq in enumerate(generated_sequences):\n",
    "    print(f\"Sample {i+1}: {seq[1:].tolist()}\")  # Exclude BOS token"
   ]
  },
  {
   "cell_type": "code",
   "execution_count": 31,
   "id": "9a765744",
   "metadata": {},
   "outputs": [
    {
     "name": "stdout",
     "output_type": "stream",
     "text": [
      "→ Starting compare_priors on device='mps'.\n",
      "Moving model to device:  mps\n",
      "Moving model to device:  mps\n",
      "  Transformer predictive resampling for prior in 11.280 sec.\n"
     ]
    },
    {
     "data": {
      "image/png": "[encoded data removed]",
      "text/plain": [
       "<Figure size 800x500 with 1 Axes>"
      ]
     },
     "metadata": {},
     "output_type": "display_data"
    }
   ],
   "source": [
    "compare_priors(\n",
    "    A= 1.0,\n",
    "    B= 1.0,\n",
    "    model= model,\n",
    "    device= DEVICE,\n",
    "    n_samples= 1000\n",
    ")"
   ]
  },
  {
   "cell_type": "markdown",
   "id": "b8b38c41",
   "metadata": {},
   "source": [
    "## Compare this with a transformer that does not have positional embeddings"
   ]
  },
  {
   "cell_type": "code",
   "execution_count": 25,
   "id": "e01c96d1",
   "metadata": {},
   "outputs": [
    {
     "name": "stdout",
     "output_type": "stream",
     "text": [
      "Moving model to device:  mps\n",
      "Probability range: [0.001, 1.000]\n"
     ]
    },
    {
     "name": "stderr",
     "output_type": "stream",
     "text": [
      "Epoch 1/5: 1000it [00:10, 92.78it/s]\n"
     ]
    },
    {
     "name": "stdout",
     "output_type": "stream",
     "text": [
      "Epoch 1, Loss: 0.5263, Theoretical Loss Lower Bound: 0.5000\n",
      "Probability range: [0.002, 1.000]\n"
     ]
    },
    {
     "name": "stderr",
     "output_type": "stream",
     "text": [
      "Epoch 2/5: 1000it [00:10, 94.30it/s]\n"
     ]
    },
    {
     "name": "stdout",
     "output_type": "stream",
     "text": [
      "Epoch 2, Loss: 0.5255, Theoretical Loss Lower Bound: 0.5000\n",
      "Probability range: [0.001, 0.999]\n"
     ]
    },
    {
     "name": "stderr",
     "output_type": "stream",
     "text": [
      "Epoch 3/5: 1000it [00:10, 95.29it/s]\n"
     ]
    },
    {
     "name": "stdout",
     "output_type": "stream",
     "text": [
      "Epoch 3, Loss: 0.5245, Theoretical Loss Lower Bound: 0.5000\n",
      "Probability range: [0.000, 1.000]\n"
     ]
    },
    {
     "name": "stderr",
     "output_type": "stream",
     "text": [
      "Epoch 4/5: 1000it [00:10, 94.65it/s]\n"
     ]
    },
    {
     "name": "stdout",
     "output_type": "stream",
     "text": [
      "Epoch 4, Loss: 0.5229, Theoretical Loss Lower Bound: 0.5000\n",
      "Probability range: [0.001, 0.999]\n"
     ]
    },
    {
     "name": "stderr",
     "output_type": "stream",
     "text": [
      "Epoch 5/5: 1000it [00:10, 92.23it/s]\n"
     ]
    },
    {
     "name": "stdout",
     "output_type": "stream",
     "text": [
      "Epoch 5, Loss: 0.5073, Theoretical Loss Lower Bound: 0.5000\n",
      "→ Starting compare_priors on device='mps'.\n",
      "Moving model to device:  mps\n",
      "Moving model to device:  mps\n",
      "  Transformer predictive resampling for prior in 10.869 sec.\n"
     ]
    },
    {
     "data": {
      "image/png": "[encoded data removed]",
      "text/plain": [
       "<Figure size 800x500 with 1 Axes>"
      ]
     },
     "metadata": {},
     "output_type": "display_data"
    }
   ],
   "source": [
    "model2 = transformer_lens.HookedTransformer(coinformer_wit_bos_config).to(DEVICE)\n",
    "losses2 = train_coinformer_model(model2,\n",
    "                                  num_epochs=5,\n",
    "                                  learning_rate=0.001,\n",
    "                                  batch_size=64,\n",
    "                                  seq_length=99,\n",
    "                                  num_batches=1000,\n",
    "                                  alpha_param=1.0,\n",
    "                                  beta_param=1.0,\n",
    "                                  pos_embed=False\n",
    "                                  )\n",
    "\n",
    "compare_priors(\n",
    "    A= 1.0,\n",
    "    B= 1.0,\n",
    "    model= model2,\n",
    "    device= DEVICE,\n",
    "    n_samples= 1000\n",
    ")"
   ]
  },
  {
   "cell_type": "markdown",
   "id": "b12b2a5a",
   "metadata": {},
   "source": [
    "# Residual Stream Experiments"
   ]
  },
  {
   "cell_type": "markdown",
   "id": "19184387",
   "metadata": {},
   "source": [
    "We first look at a sequences of length 10 with 5 ones and 5 zeros, where the last token is fixed to be 1. "
   ]
  },
  {
   "cell_type": "code",
   "execution_count": 40,
   "id": "36d78a3c",
   "metadata": {},
   "outputs": [
    {
     "data": {
      "text/plain": [
       "tensor([[2, 1, 1,  ..., 0, 0, 1],\n",
       "        [2, 1, 1,  ..., 0, 0, 1],\n",
       "        [2, 1, 1,  ..., 0, 0, 1],\n",
       "        ...,\n",
       "        [2, 1, 1,  ..., 0, 0, 1],\n",
       "        [2, 1, 1,  ..., 0, 0, 1],\n",
       "        [2, 1, 1,  ..., 0, 0, 1]])"
      ]
     },
     "execution_count": 40,
     "metadata": {},
     "output_type": "execute_result"
    }
   ],
   "source": [
    "sample = generate_all_binary_sequences_with_fixed_num_ones(\n",
    "    n=99, \n",
    "    num_ones=50, \n",
    "    max_n_sequences=256, \n",
    "    prepend_bos=True, \n",
    "    last_obs=1  # Fix the last token to 1\n",
    ")\n",
    "\n",
    "sample"
   ]
  },
  {
   "cell_type": "code",
   "execution_count": 41,
   "id": "e955300a",
   "metadata": {},
   "outputs": [
    {
     "name": "stdout",
     "output_type": "stream",
     "text": [
      "Residuals shape: torch.Size([256, 64])\n",
      "Cache keys: ['hook_embed', 'hook_pos_embed', 'blocks.0.hook_resid_pre', 'blocks.0.attn.hook_q', 'blocks.0.attn.hook_k', 'blocks.0.attn.hook_v', 'blocks.0.attn.hook_attn_scores', 'blocks.0.attn.hook_pattern', 'blocks.0.attn.hook_z', 'blocks.0.hook_attn_out', 'blocks.0.hook_resid_mid', 'blocks.0.mlp.hook_pre', 'blocks.0.mlp.hook_post', 'blocks.0.hook_mlp_out', 'blocks.0.hook_resid_post']\n"
     ]
    }
   ],
   "source": [
    "with torch.inference_mode():\n",
    "    logits, cache = model.run_with_cache(sample)\n",
    "\n",
    "resids = cache[\"resid_mid\", -1][:, -1, :]  ## we focus on resid_mid, which is the residual stream after the attention layer but before the mlp\n",
    "\n",
    "# the idea is that the attention layer encodes the sufficient statistics, and the mlp simply learns the nonlinear operation of converting into logits\n",
    "\n",
    "print(f\"Residuals shape: {resids.shape}\") # (batch_size, d_model)\n",
    "print(\"Cache keys:\", list(cache.keys()))"
   ]
  },
  {
   "cell_type": "code",
   "execution_count": 42,
   "id": "dbe91de1",
   "metadata": {},
   "outputs": [
    {
     "data": {
      "image/png": "[encoded data removed]",
      "text/plain": [
       "<Figure size 1000x800 with 2 Axes>"
      ]
     },
     "metadata": {},
     "output_type": "display_data"
    },
    {
     "data": {
      "text/plain": [
       "tensor([[ 0.1507, -0.0903,  0.0429,  ..., -0.1140,  0.1098, -0.4510],\n",
       "        [ 0.1508, -0.0898,  0.0433,  ..., -0.1140,  0.1101, -0.4509],\n",
       "        [ 0.1505, -0.0902,  0.0430,  ..., -0.1132,  0.1099, -0.4505],\n",
       "        ...,\n",
       "        [ 0.1515, -0.0913,  0.0427,  ..., -0.1136,  0.1100, -0.4518],\n",
       "        [ 0.1511, -0.0910,  0.0431,  ..., -0.1133,  0.1103, -0.4512],\n",
       "        [ 0.1511, -0.0908,  0.0434,  ..., -0.1131,  0.1103, -0.4524]],\n",
       "       device='mps:0')"
      ]
     },
     "execution_count": 42,
     "metadata": {},
     "output_type": "execute_result"
    }
   ],
   "source": [
    "cosine_sim_matrix = sklearn_cosine_similarity(resids.cpu().numpy())\n",
    "\n",
    "# Plot the cosine similarity matrix\n",
    "plt.figure(figsize=(10, 8))\n",
    "plt.imshow(cosine_sim_matrix, cmap='viridis', vmin=-1, vmax=1)\n",
    "plt.colorbar(label='Cosine Similarity')\n",
    "plt.title('Cosine Similarity Matrix of Residual Vectors')\n",
    "plt.xlabel('Sequence Index')\n",
    "plt.ylabel('Sequence Index')\n",
    "plt.tight_layout()\n",
    "plt.show()\n",
    "\n",
    "resids"
   ]
  },
  {
   "cell_type": "markdown",
   "id": "4776ba6a",
   "metadata": {},
   "source": [
    "# Attention Head Visualisation"
   ]
  },
  {
   "cell_type": "code",
   "execution_count": 30,
   "id": "5fdffc5b",
   "metadata": {},
   "outputs": [
    {
     "data": {
      "image/png": "[encoded data removed]",
      "text/plain": [
       "<Figure size 1200x1000 with 4 Axes>"
      ]
     },
     "metadata": {},
     "output_type": "display_data"
    }
   ],
   "source": [
    "\n",
    "seq1 = torch.tensor([2] + [1,0]* 4)\n",
    "seq2 = torch.tensor([2] + [0,1]* 4)\n",
    "# Visualize attention for seq1 and seq2\n",
    "sequences = torch.stack([seq1, seq2]).to(DEVICE)\n",
    "\n",
    "with torch.inference_mode():\n",
    "    logits, cache = model.run_with_cache(sequences)\n",
    "\n",
    "# Get attention patterns\n",
    "attention_patterns = cache[\"pattern\", 0]  # Shape: [batch, n_heads, seq_len, seq_len]\n",
    "\n",
    "# Create visualization for both sequences\n",
    "fig, axes = plt.subplots(2, 1, figsize=(12, 10))\n",
    "\n",
    "for seq_idx in range(2):\n",
    "    # Get attention pattern for this sequence (assuming single head)\n",
    "    attn_pattern = attention_patterns[seq_idx, 0].cpu().numpy()  # Shape: [seq_len, seq_len]\n",
    "    \n",
    "    im = axes[seq_idx].imshow(attn_pattern, cmap='Blues', vmin=0, vmax=1)\n",
    "    axes[seq_idx].set_title(f'Attention Pattern - Sequence {seq_idx + 1}: {sequences[seq_idx].tolist()}')\n",
    "    axes[seq_idx].set_xlabel('Key Position')\n",
    "    axes[seq_idx].set_ylabel('Query Position')\n",
    "    \n",
    "    # Add colorbar\n",
    "    plt.colorbar(im, ax=axes[seq_idx])\n",
    "    \n",
    "    # Add grid\n",
    "    axes[seq_idx].grid(True, alpha=0.3)\n",
    "\n",
    "plt.tight_layout()\n",
    "plt.show()"
   ]
  },
  {
   "cell_type": "markdown",
   "id": "6309b5e0",
   "metadata": {},
   "source": [
    "# Fitting Residual to a function of N and H"
   ]
  },
  {
   "cell_type": "code",
   "execution_count": 53,
   "id": "773a125e",
   "metadata": {},
   "outputs": [],
   "source": [
    "import torch\n",
    "\n",
    "batch_size = 100  # Number of rows\n",
    "seq_length = 100  # Total length (including the first column of 2s)\n",
    "\n",
    "# Initialize the tensor with zeros\n",
    "tensor = torch.zeros((batch_size, seq_length), dtype=torch.long)\n",
    "\n",
    "# Set the first column to 2 (BOS token)\n",
    "tensor[:, 0] = 2\n",
    "\n",
    "# Fill a lower‐triangular band of 1’s (including the diagonal) starting at column 1\n",
    "for i in range(1, min(batch_size, seq_length)):\n",
    "    tensor[i, 1 : i+1] = 1\n",
    "\n"
   ]
  },
  {
   "cell_type": "code",
   "execution_count": 56,
   "id": "d2455f2c",
   "metadata": {},
   "outputs": [],
   "source": [
    "logits, cache = model.run_with_cache(tensor)\n",
    "\n",
    "resids = cache[\"resid_mid\", -1]"
   ]
  },
  {
   "cell_type": "code",
   "execution_count": 57,
   "id": "d5d5db32",
   "metadata": {},
   "outputs": [
    {
     "data": {
      "text/plain": [
       "torch.Size([100, 100, 64])"
      ]
     },
     "execution_count": 57,
     "metadata": {},
     "output_type": "execute_result"
    }
   ],
   "source": [
    "resids.shape"
   ]
  },
  {
   "cell_type": "code",
   "execution_count": 67,
   "id": "dd64a934",
   "metadata": {},
   "outputs": [],
   "source": [
    "mask2d = torch.triu(torch.ones((batch_size, seq_length), dtype=torch.bool), diagonal=0)\n",
    "mask2d\n",
    "\n",
    "relevant_resids = resids[mask2d]\n"
   ]
  },
  {
   "cell_type": "code",
   "execution_count": 79,
   "id": "556fbeaa",
   "metadata": {},
   "outputs": [],
   "source": [
    "N_obs = torch.zeros_like(tensor)\n",
    "\n",
    "for i in range(seq_length):\n",
    "    N_obs[:, i] = i\n",
    "\n",
    "N_obs\n",
    "\n",
    "relevant_N = N_obs[mask2d]"
   ]
  },
  {
   "cell_type": "code",
   "execution_count": 80,
   "id": "cd3c84d4",
   "metadata": {},
   "outputs": [],
   "source": [
    "H_obs = tensor.clone()\n",
    "\n",
    "H_obs[:,0] = 0\n",
    "\n",
    "for i in range(1, batch_size):\n",
    "    H_obs[i, : ] = torch.cumsum(tensor[i, :], dim=0) -2\n",
    "\n",
    "H_obs\n",
    "\n",
    "relevant_H = H_obs[mask2d]"
   ]
  },
  {
   "cell_type": "code",
   "execution_count": 81,
   "id": "aeac78e8",
   "metadata": {},
   "outputs": [
    {
     "name": "stdout",
     "output_type": "stream",
     "text": [
      "torch.Size([5050, 64])\n",
      "torch.Size([5050])\n",
      "torch.Size([5050])\n"
     ]
    }
   ],
   "source": [
    "print(relevant_resids.shape)\n",
    "print(relevant_N.shape)\n",
    "print(relevant_H.shape)"
   ]
  },
  {
   "cell_type": "code",
   "execution_count": 83,
   "id": "7ddb9a2f",
   "metadata": {},
   "outputs": [
    {
     "name": "stderr",
     "output_type": "stream",
     "text": [
      "Epoch 1/30: 100%|██████████| 20/20 [00:00<00:00, 60.31it/s]\n"
     ]
    },
    {
     "name": "stdout",
     "output_type": "stream",
     "text": [
      "Epoch 1, Loss: 3.783417\n"
     ]
    },
    {
     "name": "stderr",
     "output_type": "stream",
     "text": [
      "Epoch 2/30: 100%|██████████| 20/20 [00:00<00:00, 381.41it/s]\n"
     ]
    },
    {
     "name": "stdout",
     "output_type": "stream",
     "text": [
      "Epoch 2, Loss: 0.215022\n"
     ]
    },
    {
     "name": "stderr",
     "output_type": "stream",
     "text": [
      "Epoch 3/30: 100%|██████████| 20/20 [00:00<00:00, 412.36it/s]\n"
     ]
    },
    {
     "name": "stdout",
     "output_type": "stream",
     "text": [
      "Epoch 3, Loss: 0.059559\n"
     ]
    },
    {
     "name": "stderr",
     "output_type": "stream",
     "text": [
      "Epoch 4/30: 100%|██████████| 20/20 [00:00<00:00, 391.55it/s]\n"
     ]
    },
    {
     "name": "stdout",
     "output_type": "stream",
     "text": [
      "Epoch 4, Loss: 0.033854\n"
     ]
    },
    {
     "name": "stderr",
     "output_type": "stream",
     "text": [
      "Epoch 5/30: 100%|██████████| 20/20 [00:00<00:00, 157.48it/s]\n"
     ]
    },
    {
     "name": "stdout",
     "output_type": "stream",
     "text": [
      "Epoch 5, Loss: 0.024435\n"
     ]
    },
    {
     "name": "stderr",
     "output_type": "stream",
     "text": [
      "Epoch 6/30: 100%|██████████| 20/20 [00:00<00:00, 419.01it/s]\n"
     ]
    },
    {
     "name": "stdout",
     "output_type": "stream",
     "text": [
      "Epoch 6, Loss: 0.021289\n"
     ]
    },
    {
     "name": "stderr",
     "output_type": "stream",
     "text": [
      "Epoch 7/30: 100%|██████████| 20/20 [00:00<00:00, 442.60it/s]\n"
     ]
    },
    {
     "name": "stdout",
     "output_type": "stream",
     "text": [
      "Epoch 7, Loss: 0.019952\n"
     ]
    },
    {
     "name": "stderr",
     "output_type": "stream",
     "text": [
      "Epoch 8/30: 100%|██████████| 20/20 [00:00<00:00, 430.18it/s]\n"
     ]
    },
    {
     "name": "stdout",
     "output_type": "stream",
     "text": [
      "Epoch 8, Loss: 0.019091\n"
     ]
    },
    {
     "name": "stderr",
     "output_type": "stream",
     "text": [
      "Epoch 9/30: 100%|██████████| 20/20 [00:00<00:00, 366.00it/s]\n"
     ]
    },
    {
     "name": "stdout",
     "output_type": "stream",
     "text": [
      "Epoch 9, Loss: 0.018711\n"
     ]
    },
    {
     "name": "stderr",
     "output_type": "stream",
     "text": [
      "Epoch 10/30: 100%|██████████| 20/20 [00:00<00:00, 353.04it/s]\n"
     ]
    },
    {
     "name": "stdout",
     "output_type": "stream",
     "text": [
      "Epoch 10, Loss: 0.018081\n"
     ]
    },
    {
     "name": "stderr",
     "output_type": "stream",
     "text": [
      "Epoch 11/30: 100%|██████████| 20/20 [00:00<00:00, 372.21it/s]\n"
     ]
    },
    {
     "name": "stdout",
     "output_type": "stream",
     "text": [
      "Epoch 11, Loss: 0.017620\n"
     ]
    },
    {
     "name": "stderr",
     "output_type": "stream",
     "text": [
      "Epoch 12/30: 100%|██████████| 20/20 [00:00<00:00, 399.26it/s]\n"
     ]
    },
    {
     "name": "stdout",
     "output_type": "stream",
     "text": [
      "Epoch 12, Loss: 0.017289\n"
     ]
    },
    {
     "name": "stderr",
     "output_type": "stream",
     "text": [
      "Epoch 13/30: 100%|██████████| 20/20 [00:00<00:00, 474.73it/s]\n"
     ]
    },
    {
     "name": "stdout",
     "output_type": "stream",
     "text": [
      "Epoch 13, Loss: 0.016561\n"
     ]
    },
    {
     "name": "stderr",
     "output_type": "stream",
     "text": [
      "Epoch 14/30: 100%|██████████| 20/20 [00:00<00:00, 474.09it/s]\n"
     ]
    },
    {
     "name": "stdout",
     "output_type": "stream",
     "text": [
      "Epoch 14, Loss: 0.015956\n"
     ]
    },
    {
     "name": "stderr",
     "output_type": "stream",
     "text": [
      "Epoch 15/30: 100%|██████████| 20/20 [00:00<00:00, 460.65it/s]\n"
     ]
    },
    {
     "name": "stdout",
     "output_type": "stream",
     "text": [
      "Epoch 15, Loss: 0.015103\n"
     ]
    },
    {
     "name": "stderr",
     "output_type": "stream",
     "text": [
      "Epoch 16/30: 100%|██████████| 20/20 [00:00<00:00, 429.10it/s]\n"
     ]
    },
    {
     "name": "stdout",
     "output_type": "stream",
     "text": [
      "Epoch 16, Loss: 0.014682\n"
     ]
    },
    {
     "name": "stderr",
     "output_type": "stream",
     "text": [
      "Epoch 17/30: 100%|██████████| 20/20 [00:00<00:00, 428.42it/s]\n"
     ]
    },
    {
     "name": "stdout",
     "output_type": "stream",
     "text": [
      "Epoch 17, Loss: 0.014024\n"
     ]
    },
    {
     "name": "stderr",
     "output_type": "stream",
     "text": [
      "Epoch 18/30: 100%|██████████| 20/20 [00:00<00:00, 471.69it/s]\n"
     ]
    },
    {
     "name": "stdout",
     "output_type": "stream",
     "text": [
      "Epoch 18, Loss: 0.013823\n"
     ]
    },
    {
     "name": "stderr",
     "output_type": "stream",
     "text": [
      "Epoch 19/30: 100%|██████████| 20/20 [00:00<00:00, 437.61it/s]\n"
     ]
    },
    {
     "name": "stdout",
     "output_type": "stream",
     "text": [
      "Epoch 19, Loss: 0.013180\n"
     ]
    },
    {
     "name": "stderr",
     "output_type": "stream",
     "text": [
      "Epoch 20/30: 100%|██████████| 20/20 [00:00<00:00, 169.79it/s]\n"
     ]
    },
    {
     "name": "stdout",
     "output_type": "stream",
     "text": [
      "Epoch 20, Loss: 0.012504\n"
     ]
    },
    {
     "name": "stderr",
     "output_type": "stream",
     "text": [
      "Epoch 21/30: 100%|██████████| 20/20 [00:00<00:00, 456.58it/s]\n"
     ]
    },
    {
     "name": "stdout",
     "output_type": "stream",
     "text": [
      "Epoch 21, Loss: 0.011898\n"
     ]
    },
    {
     "name": "stderr",
     "output_type": "stream",
     "text": [
      "Epoch 22/30: 100%|██████████| 20/20 [00:00<00:00, 468.84it/s]\n"
     ]
    },
    {
     "name": "stdout",
     "output_type": "stream",
     "text": [
      "Epoch 22, Loss: 0.011445\n"
     ]
    },
    {
     "name": "stderr",
     "output_type": "stream",
     "text": [
      "Epoch 23/30: 100%|██████████| 20/20 [00:00<00:00, 487.71it/s]\n"
     ]
    },
    {
     "name": "stdout",
     "output_type": "stream",
     "text": [
      "Epoch 23, Loss: 0.010990\n"
     ]
    },
    {
     "name": "stderr",
     "output_type": "stream",
     "text": [
      "Epoch 24/30: 100%|██████████| 20/20 [00:00<00:00, 455.68it/s]\n"
     ]
    },
    {
     "name": "stdout",
     "output_type": "stream",
     "text": [
      "Epoch 24, Loss: 0.010496\n"
     ]
    },
    {
     "name": "stderr",
     "output_type": "stream",
     "text": [
      "Epoch 25/30: 100%|██████████| 20/20 [00:00<00:00, 471.06it/s]\n"
     ]
    },
    {
     "name": "stdout",
     "output_type": "stream",
     "text": [
      "Epoch 25, Loss: 0.010147\n"
     ]
    },
    {
     "name": "stderr",
     "output_type": "stream",
     "text": [
      "Epoch 26/30: 100%|██████████| 20/20 [00:00<00:00, 462.18it/s]\n"
     ]
    },
    {
     "name": "stdout",
     "output_type": "stream",
     "text": [
      "Epoch 26, Loss: 0.009898\n"
     ]
    },
    {
     "name": "stderr",
     "output_type": "stream",
     "text": [
      "Epoch 27/30: 100%|██████████| 20/20 [00:00<00:00, 464.61it/s]\n"
     ]
    },
    {
     "name": "stdout",
     "output_type": "stream",
     "text": [
      "Epoch 27, Loss: 0.009628\n"
     ]
    },
    {
     "name": "stderr",
     "output_type": "stream",
     "text": [
      "Epoch 28/30: 100%|██████████| 20/20 [00:00<00:00, 463.58it/s]\n"
     ]
    },
    {
     "name": "stdout",
     "output_type": "stream",
     "text": [
      "Epoch 28, Loss: 0.009710\n"
     ]
    },
    {
     "name": "stderr",
     "output_type": "stream",
     "text": [
      "Epoch 29/30: 100%|██████████| 20/20 [00:00<00:00, 448.18it/s]\n"
     ]
    },
    {
     "name": "stdout",
     "output_type": "stream",
     "text": [
      "Epoch 29, Loss: 0.009701\n"
     ]
    },
    {
     "name": "stderr",
     "output_type": "stream",
     "text": [
      "Epoch 30/30: 100%|██████████| 20/20 [00:00<00:00, 405.20it/s]\n"
     ]
    },
    {
     "name": "stdout",
     "output_type": "stream",
     "text": [
      "Epoch 30, Loss: 0.009456\n"
     ]
    },
    {
     "data": {
      "image/png": "[encoded data removed]",
      "text/plain": [
       "<Figure size 1000x500 with 1 Axes>"
      ]
     },
     "metadata": {},
     "output_type": "display_data"
    },
    {
     "name": "stdout",
     "output_type": "stream",
     "text": [
      "Input: N=67.0, H=2.0\n",
      "Target: tensor([0.1543, 0.2299, 0.2964, 0.0175, 0.0503], device='mps:0')\n",
      "Prediction: tensor([0.1650, 0.2369, 0.2100, 0.1124, 0.0513], device='mps:0')\n",
      "\n",
      "Input: N=90.0, H=58.0\n",
      "Target: tensor([ 0.3433, -0.3583,  0.0667, -0.2629,  0.0565], device='mps:0')\n",
      "Prediction: tensor([ 0.2212, -0.4572, -0.0622, -0.2681,  0.0949], device='mps:0')\n",
      "\n",
      "Input: N=6.0, H=3.0\n",
      "Target: tensor([ 0.1718, -0.4393,  0.1050, -0.3182,  0.0117], device='mps:0')\n",
      "Prediction: tensor([ 0.1258, -0.2754,  0.0921, -0.2521,  0.1884], device='mps:0')\n",
      "\n",
      "Input: N=87.0, H=65.0\n",
      "Target: tensor([ 0.1152, -0.4585, -0.0592, -0.1375,  0.0403], device='mps:0')\n",
      "Prediction: tensor([ 0.2579, -0.5581, -0.0649, -0.3244,  0.0991], device='mps:0')\n",
      "\n",
      "Input: N=29.0, H=24.0\n",
      "Target: tensor([ 0.2167, -0.5616, -0.0879, -0.2577,  0.1766], device='mps:0')\n",
      "Prediction: tensor([ 0.2154, -0.5034,  0.0033, -0.3952,  0.1052], device='mps:0')\n",
      "\n"
     ]
    }
   ],
   "source": [
    "import torch\n",
    "from tqdm import tqdm\n",
    "\n",
    "import torch.nn as nn\n",
    "import torch.optim as optim\n",
    "\n",
    "# Define the MLP model\n",
    "class MLP(nn.Module):\n",
    "    def __init__(self, input_dim=2, hidden_dim=128, output_dim=64):\n",
    "        super(MLP, self).__init__()\n",
    "        self.model = nn.Sequential(\n",
    "            nn.Linear(input_dim, hidden_dim),\n",
    "            nn.ReLU(),\n",
    "            nn.Linear(hidden_dim, hidden_dim),\n",
    "            nn.ReLU(),\n",
    "            nn.Linear(hidden_dim, output_dim)\n",
    "        )\n",
    "    \n",
    "    def forward(self, x):\n",
    "        return self.model(x)\n",
    "\n",
    "# Prepare data\n",
    "# Move tensors to same device and convert to float\n",
    "N = relevant_N.float().to(DEVICE)\n",
    "H = relevant_H.float().to(DEVICE)\n",
    "targets = relevant_resids.to(DEVICE)\n",
    "\n",
    "# Create input tensor\n",
    "X = torch.stack([N, H], dim=1)  # Shape: [num_samples, 2]\n",
    "\n",
    "# Create and train the model\n",
    "mlp = MLP(input_dim=2, hidden_dim=128, output_dim=64).to(DEVICE)\n",
    "optimizer = optim.Adam(mlp.parameters(), lr=0.001)\n",
    "criterion = nn.MSELoss()\n",
    "\n",
    "num_epochs = 30\n",
    "batch_size = 256\n",
    "\n",
    "# Create DataLoader\n",
    "indices = torch.randperm(X.size(0))\n",
    "X = X[indices]\n",
    "targets = targets[indices]\n",
    "\n",
    "# Training loop\n",
    "losses = []\n",
    "for epoch in range(num_epochs):\n",
    "    epoch_loss = 0\n",
    "    num_batches = (X.size(0) + batch_size - 1) // batch_size  # Ceiling division\n",
    "    \n",
    "    for i in tqdm(range(num_batches), desc=f\"Epoch {epoch+1}/{num_epochs}\"):\n",
    "        start_idx = i * batch_size\n",
    "        end_idx = min((i + 1) * batch_size, X.size(0))\n",
    "        \n",
    "        batch_X = X[start_idx:end_idx]\n",
    "        batch_targets = targets[start_idx:end_idx]\n",
    "        \n",
    "        # Zero gradients\n",
    "        optimizer.zero_grad()\n",
    "        \n",
    "        # Forward pass\n",
    "        outputs = mlp(batch_X)\n",
    "        \n",
    "        # Calculate loss\n",
    "        loss = criterion(outputs, batch_targets)\n",
    "        \n",
    "        # Backward pass and optimize\n",
    "        loss.backward()\n",
    "        optimizer.step()\n",
    "        \n",
    "        epoch_loss += loss.item() * (end_idx - start_idx)\n",
    "    \n",
    "    avg_epoch_loss = epoch_loss / X.size(0)\n",
    "    losses.append(avg_epoch_loss)\n",
    "    print(f\"Epoch {epoch+1}, Loss: {avg_epoch_loss:.6f}\")\n",
    "\n",
    "# Plot the training loss\n",
    "plt.figure(figsize=(10, 5))\n",
    "plt.plot(range(1, num_epochs+1), losses)\n",
    "plt.title('Training Loss')\n",
    "plt.xlabel('Epoch')\n",
    "plt.ylabel('MSE Loss')\n",
    "plt.grid(True)\n",
    "plt.show()\n",
    "\n",
    "# Test the model\n",
    "with torch.no_grad():\n",
    "    # Sample a few points to compare predictions with actual values\n",
    "    sample_indices = torch.randint(0, X.size(0), (5,))\n",
    "    sample_X = X[sample_indices]\n",
    "    sample_targets = targets[sample_indices]\n",
    "    \n",
    "    predictions = mlp(sample_X)\n",
    "    \n",
    "    for i in range(5):\n",
    "        print(f\"Input: N={sample_X[i][0].item():.1f}, H={sample_X[i][1].item():.1f}\")\n",
    "        print(f\"Target: {sample_targets[i][:5]}\")\n",
    "        print(f\"Prediction: {predictions[i][:5]}\")\n",
    "        print() "
   ]
  },
  {
   "cell_type": "code",
   "execution_count": null,
   "id": "79a650a3",
   "metadata": {},
   "outputs": [],
   "source": []
  }
 ],
 "metadata": {
  "kernelspec": {
   "display_name": "context-vs-finetune",
   "language": "python",
   "name": "python3"
  },
  "language_info": {
   "codemirror_mode": {
    "name": "ipython",
    "version": 3
   },
   "file_extension": ".py",
   "mimetype": "text/x-python",
   "name": "python",
   "nbconvert_exporter": "python",
   "pygments_lexer": "ipython3",
   "version": "3.11.11"
  }
 },
 "nbformat": 4,
 "nbformat_minor": 5
}
